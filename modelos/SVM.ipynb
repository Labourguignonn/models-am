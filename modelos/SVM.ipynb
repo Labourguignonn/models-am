{
  "nbformat": 4,
  "nbformat_minor": 0,
  "metadata": {
    "colab": {
      "provenance": [],
      "gpuType": "T4"
    },
    "kernelspec": {
      "name": "python3",
      "display_name": "Python 3"
    },
    "language_info": {
      "name": "python"
    }
  },
  "cells": [
    {
      "cell_type": "markdown",
      "source": [
        "### 1. **Preparação dos Dados**"
      ],
      "metadata": {
        "id": "lV7ei8czPQPT"
      }
    },
    {
      "cell_type": "code",
      "source": [
        "import numpy as np\n",
        "import pandas as pd\n",
        "import matplotlib.pyplot as plt\n",
        "from statistics import mean\n",
        "import scipy.stats\n",
        "from sklearn.model_selection import train_test_split, StratifiedKFold, RandomizedSearchCV\n",
        "from sklearn.preprocessing import StandardScaler\n",
        "from sklearn.svm import SVC\n",
        "from sklearn.metrics import classification_report, confusion_matrix\n",
        "from sklearn.metrics import make_scorer, f1_score, accuracy_score, precision_score, recall_score\n",
        "from scipy.stats import randint\n",
        "import matplotlib.pyplot as plt\n",
        "from sklearn.metrics import confusion_matrix\n",
        "import seaborn as sns"
      ],
      "metadata": {
        "id": "uIi8y_99WpQt"
      },
      "execution_count": null,
      "outputs": []
    },
    {
      "cell_type": "markdown",
      "source": [
        "**Carregamento do Dataset**"
      ],
      "metadata": {
        "id": "DYJ7_MFrPW07"
      }
    },
    {
      "cell_type": "markdown",
      "source": [
        "*   Proporção das classes seja mantida em cada conjunto\n",
        "*   Validação: 20% do conjunto de treino\n",
        "\n"
      ],
      "metadata": {
        "id": "OczQsT2gVPrt"
      }
    },
    {
      "cell_type": "code",
      "execution_count": null,
      "metadata": {
        "id": "juvUOjBvO7oL"
      },
      "outputs": [],
      "source": [
        "test_path = \"test_normalized.csv\"\n",
        "val_path = \"val_normalized.csv\"\n",
        "subtrain_path = \"train_normalized.csv\"\n",
        "\n",
        "df_val = pd.read_csv(val_path, index_col=None)\n",
        "df_test = pd.read_csv(test_path, index_col=None)\n",
        "df_subtrain = pd.read_csv(subtrain_path, index_col=None)"
      ]
    },
    {
      "cell_type": "code",
      "source": [
        "print(\"Validação:\", df_val.shape)\n",
        "print(\"Teste:\", df_test.shape)\n",
        "print(\"Sub-conjunto de treinamento\", df_subtrain.shape)"
      ],
      "metadata": {
        "colab": {
          "base_uri": "https://localhost:8080/"
        },
        "id": "ycE22s0l6-x9",
        "outputId": "c4d40bd4-1473-4372-cc74-cba89dba7740"
      },
      "execution_count": null,
      "outputs": [
        {
          "output_type": "stream",
          "name": "stdout",
          "text": [
            "Validação: (7200, 23)\n",
            "Teste: (9000, 23)\n",
            "Sub-conjunto de treinamento (28800, 23)\n"
          ]
        }
      ]
    },
    {
      "cell_type": "code",
      "source": [
        "X_train_subset = df_subtrain.drop(columns=[\"loan_status\"])\n",
        "y_train_subset  = df_subtrain[\"loan_status\"]\n",
        "\n",
        "X_val = df_val.drop(columns=[\"loan_status\"])\n",
        "y_val = df_val[\"loan_status\"]\n",
        "\n",
        "X_test = df_test.drop(columns=[\"loan_status\"])\n",
        "y_test = df_test[\"loan_status\"]\n",
        "\n",
        "# Unificando os conjuntos de subtreino e validação\n",
        "X_train = pd.concat([X_train_subset, X_val], axis=0)\n",
        "y_train= pd.concat([y_train_subset, y_val], axis=0)"
      ],
      "metadata": {
        "id": "TJyMhHgU7KbE"
      },
      "execution_count": null,
      "outputs": []
    },
    {
      "cell_type": "markdown",
      "source": [
        "**Pré-processamento**"
      ],
      "metadata": {
        "id": "uUvTn4bNVoUe"
      }
    },
    {
      "cell_type": "markdown",
      "source": [
        "O modelo SVM é sensível à escala dos atributos, por isso aplicamos a padronização."
      ],
      "metadata": {
        "id": "pnQWG1INWiUj"
      }
    },
    {
      "cell_type": "code",
      "source": [
        "scaler = StandardScaler()\n",
        "X_train = scaler.fit_transform(X_train)  # Ajusta e transforma o conjunto de treino\n",
        "X_train_scaled = scaler.fit_transform(X_train_subset)  # Ajusta e transforma o conjunto de treino\n",
        "X_val_scaled = scaler.transform(X_val)  # Apenas transforma o conjunto de validação\n",
        "X_test_scaled = scaler.transform(X_test)"
      ],
      "metadata": {
        "id": "sZwygVeIXoem"
      },
      "execution_count": null,
      "outputs": []
    },
    {
      "cell_type": "markdown",
      "source": [
        "### 2. **Seleção do Moelos e Hiperparâmetros**"
      ],
      "metadata": {
        "id": "eqcxU9d3YLD-"
      }
    },
    {
      "cell_type": "markdown",
      "source": [
        "\n",
        "*   C: Controle da regularização (distribuição log-uniforme).\n",
        "*   kernel: Escolha entre 'rbf' e 'linear'.\n",
        "*   gamma: Influência de um único exemplo (distribuição log-uniforme, usada no kernel RBF)."
      ],
      "metadata": {
        "id": "rRux08JEZHPr"
      }
    },
    {
      "cell_type": "markdown",
      "source": [
        "**Espaço de Busca**"
      ],
      "metadata": {
        "id": "Jg7ZkEsb3z4N"
      }
    },
    {
      "cell_type": "code",
      "source": [
        "param_grid_svm = {\n",
        "    'C': scipy.stats.loguniform(1e-3, 1e3),\n",
        "    'kernel': ['linear', 'rbf'],\n",
        "    'gamma': scipy.stats.loguniform(1e-3, 1e1)\n",
        "}"
      ],
      "metadata": {
        "id": "Ob05o5ohZCVE"
      },
      "execution_count": null,
      "outputs": []
    },
    {
      "cell_type": "markdown",
      "source": [
        "### 3. **Busca de Hiperparâmetros**"
      ],
      "metadata": {
        "id": "5_tDy4162nmN"
      }
    },
    {
      "cell_type": "markdown",
      "source": [
        "**Método de Busca**"
      ],
      "metadata": {
        "id": "sFo2vWAa20d8"
      }
    },
    {
      "cell_type": "markdown",
      "source": [
        "Utilizar RandomizedSearchCV do scikit-learn."
      ],
      "metadata": {
        "id": "7duYDUfW27Nl"
      }
    },
    {
      "cell_type": "code",
      "source": [
        "# StratifiedKFold mantém a distribuição das classes.\n",
        "cv = StratifiedKFold(n_splits=5, shuffle=True, random_state=42)\n",
        "\n",
        "# Definimos 20 iterações para buscar os melhores hiperparâmetros.\n",
        "svm = SVC()\n",
        "search_svm = RandomizedSearchCV(svm, param_grid_svm, n_iter=20, cv=cv, scoring='f1_macro', n_jobs=-1, random_state=42)"
      ],
      "metadata": {
        "id": "jyGY2vlf8Bao"
      },
      "execution_count": null,
      "outputs": []
    },
    {
      "cell_type": "markdown",
      "source": [
        "**Validação Cruzada**"
      ],
      "metadata": {
        "id": "WqW0ghi_3u51"
      }
    },
    {
      "cell_type": "markdown",
      "source": [
        "Método holdout de validação cruzada"
      ],
      "metadata": {
        "id": "xPbUs7Oa3XB0"
      }
    },
    {
      "cell_type": "code",
      "source": [
        "# Executando a Busca de Hiperparâmetros\n",
        "search_svm.fit(X_train_scaled, y_train_subset)\n",
        "\n",
        "# Seleção do Melhor Modelo\n",
        "best_svm = search_svm.best_estimator_\n",
        "\n",
        "# Avaliação no Conjunto de Validação\n",
        "y_pred_val = best_svm.predict(X_val_scaled)\n",
        "print(\"Relatório de Classificação para SVM no Conjunto de Validação:\")\n",
        "print(classification_report(y_val, y_pred_val))"
      ],
      "metadata": {
        "id": "2dnjYHMg8u38",
        "outputId": "e7e64a25-d6b4-4702-a9d0-2f7c6fef5d96",
        "colab": {
          "base_uri": "https://localhost:8080/"
        }
      },
      "execution_count": null,
      "outputs": [
        {
          "output_type": "stream",
          "name": "stdout",
          "text": [
            "Relatório de Classificação para SVM no Conjunto de Validação:\n",
            "              precision    recall  f1-score   support\n",
            "\n",
            "           0       0.93      0.96      0.94      5600\n",
            "           1       0.83      0.74      0.78      1600\n",
            "\n",
            "    accuracy                           0.91      7200\n",
            "   macro avg       0.88      0.85      0.86      7200\n",
            "weighted avg       0.91      0.91      0.91      7200\n",
            "\n"
          ]
        }
      ]
    },
    {
      "cell_type": "markdown",
      "source": [
        "**Registro de Desempenho**"
      ],
      "metadata": {
        "id": "r5Rk5YRp4uLi"
      }
    },
    {
      "cell_type": "code",
      "source": [
        "# Exibindo os melhores hiperparâmetros encontrados\n",
        "print(\"Melhores hiperparâmetros para SVM:\")\n",
        "print(search_svm.best_params_)"
      ],
      "metadata": {
        "colab": {
          "base_uri": "https://localhost:8080/"
        },
        "id": "C5blzlzm0iRG",
        "outputId": "17cf4ac7-163f-4525-8f7d-1ba938d394f7"
      },
      "execution_count": null,
      "outputs": [
        {
          "output_type": "stream",
          "name": "stdout",
          "text": [
            "Melhores hiperparâmetros para SVM:\n",
            "{'C': np.float64(9.443515687962675), 'gamma': np.float64(0.017654048052495083), 'kernel': 'rbf'}\n"
          ]
        }
      ]
    },
    {
      "cell_type": "code",
      "source": [
        "results = search_svm.cv_results_\n",
        "\n",
        "param_values = [v for v in results['params']]  # param_values será uma lista de dicionários\n",
        "mean_test_scores = results['mean_test_score']\n",
        "\n",
        "fig, axes = plt.subplots(1, len(param_grid_svm), figsize=(15, 5))  # Crie subplots para cada hiperparâmetro\n",
        "\n",
        "param_names = list(param_grid_svm.keys())  # Obtenha os nomes dos hiperparâmetros\n",
        "\n",
        "for i, param_name in enumerate(param_names):\n",
        "  ax = axes[i]\n",
        "  # Extraia os valores do hiperparâmetro atual de param_values\n",
        "  param_values_for_plot = [param.get(param_name) for param in param_values]\n",
        "  ax.scatter(param_values_for_plot, mean_test_scores)\n",
        "  ax.set_xlabel(param_name)\n",
        "  ax.set_ylabel('Pontuação Média nos Testes (F1 Macro)')\n",
        "  ax.set_title(f'Evolução de {param_name}')\n",
        "\n",
        "plt.tight_layout()\n",
        "plt.show()"
      ],
      "metadata": {
        "colab": {
          "base_uri": "https://localhost:8080/",
          "height": 482
        },
        "id": "nazvKsZB4GNe",
        "outputId": "cee2047e-a37a-41ba-b497-d1168b75e7f4"
      },
      "execution_count": null,
      "outputs": [
        {
          "output_type": "display_data",
          "data": {
            "text/plain": [
              "<Figure size 1500x500 with 3 Axes>"
            ],
            "image/png": "[encoded data removed]"
          },
          "metadata": {}
        }
      ]
    },
    {
      "cell_type": "markdown",
      "source": [
        "### 4. **Treinamento Final e Avaliação**"
      ],
      "metadata": {
        "id": "l75IRFF54yRL"
      }
    },
    {
      "cell_type": "markdown",
      "source": [
        "Treinamento do modelo no conjunto de treinamento e avaliação no conjunto de teste"
      ],
      "metadata": {
        "id": "WRGNc_j24_O6"
      }
    },
    {
      "cell_type": "code",
      "source": [
        "# Treinar o modelo\n",
        "best_svm.fit(X_train, y_train)\n",
        "\n",
        "# Avaliação no Conjunto de Teste\n",
        "y_pred_svm = best_svm.predict(X_test_scaled)\n",
        "\n",
        "# Exibição dos Resultados Finais\n",
        "print(\"Relatório de Classificação para SVM no Conjunto de Teste:\")\n",
        "print(classification_report(y_test, y_pred_svm))"
      ],
      "metadata": {
        "colab": {
          "base_uri": "https://localhost:8080/"
        },
        "id": "JX2SM1eRzQf5",
        "outputId": "e587c160-3427-4dd1-cd62-a46c21997626"
      },
      "execution_count": null,
      "outputs": [
        {
          "output_type": "stream",
          "name": "stdout",
          "text": [
            "Relatório de Classificação para SVM no Conjunto de Teste:\n",
            "              precision    recall  f1-score   support\n",
            "\n",
            "           0       0.93      0.96      0.95      7000\n",
            "           1       0.84      0.76      0.80      2000\n",
            "\n",
            "    accuracy                           0.91      9000\n",
            "   macro avg       0.89      0.86      0.87      9000\n",
            "weighted avg       0.91      0.91      0.91      9000\n",
            "\n"
          ]
        }
      ]
    },
    {
      "cell_type": "code",
      "source": [
        "# Calculando a matriz de confusão\n",
        "cm = confusion_matrix(y_test, y_pred_svm)\n",
        "\n",
        "# Criando um heatmap para visualização\n",
        "plt.figure(figsize=(6, 4))\n",
        "sns.heatmap(cm, annot=True, fmt=\"d\", cmap=\"Blues\", cbar=False)\n",
        "\n",
        "# Adicionando rótulos\n",
        "plt.xlabel(\"Previsto\")\n",
        "plt.ylabel(\"Real\")\n",
        "plt.title(\"Matriz de Confusão para SVM\")\n",
        "plt.show()\n"
      ],
      "metadata": {
        "colab": {
          "base_uri": "https://localhost:8080/"
        },
        "id": "s4WWk1_Rz4Tt",
        "outputId": "314f90d6-50b5-4d04-a322-e3091564ef28"
      },
      "execution_count": null,
      "outputs": [
        {
          "output_type": "display_data",
          "data": {
            "text/plain": [
              "<Figure size 600x400 with 1 Axes>"
            ],
            "image/png": "[encoded data removed]"
          },
          "metadata": {}
        }
      ]
    }
  ]
}