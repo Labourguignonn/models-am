{
 "cells": [
  {
   "cell_type": "markdown",
   "metadata": {},
   "source": [
    "IMPORTS"
   ]
  },
  {
   "cell_type": "code",
   "execution_count": 1,
   "metadata": {},
   "outputs": [
    {
     "ename": "",
     "evalue": "",
     "output_type": "error",
     "traceback": [
      "\u001b[1;31mRunning cells with 'Python 3.12.3' requires the ipykernel package.\n",
      "\u001b[1;31mRun the following command to install 'ipykernel' into the Python environment. \n",
      "\u001b[1;31mCommand: '/bin/python3 -m pip install ipykernel -U --user --force-reinstall'"
     ]
    }
   ],
   "source": [
    "import numpy as np\n",
    "import pandas as pd\n",
    "import matplotlib.pyplot as plt\n",
    "from statistics import mean\n",
    "from sklearn.model_selection import RandomizedSearchCV, StratifiedKFold\n",
    "from sklearn.tree import DecisionTreeClassifier\n",
    "from sklearn.metrics import make_scorer, f1_score, accuracy_score, precision_score, recall_score\n",
    "from scipy.stats import randint\n",
    "import matplotlib.pyplot as plt\n",
    "from sklearn.metrics import confusion_matrix\n",
    "import seaborn as sns"
   ]
  },
  {
   "cell_type": "markdown",
   "metadata": {},
   "source": [
    "# Importando os conjuntos da base de dados"
   ]
  },
  {
   "cell_type": "code",
   "execution_count": 2,
   "metadata": {},
   "outputs": [],
   "source": [
    "test_path = \"../test_normalized.csv\"\n",
    "val_path = \"../val_normalized.csv\"\n",
    "subtrain_path = \"../train_normalized.csv\"\n",
    "\n",
    "df_val = pd.read_csv(val_path, index_col=None)\n",
    "df_test = pd.read_csv(test_path, index_col=None)\n",
    "df_subtrain = pd.read_csv(subtrain_path, index_col=None)"
   ]
  },
  {
   "cell_type": "code",
   "execution_count": 3,
   "metadata": {},
   "outputs": [
    {
     "name": "stdout",
     "output_type": "stream",
     "text": [
      "Validação: (7200, 23)\n",
      "Teste: (9000, 23)\n",
      "Sub-conjunto de treinamento (28800, 23)\n"
     ]
    }
   ],
   "source": [
    "print(\"Validação:\", df_val.shape)\n",
    "print(\"Teste:\", df_test.shape)\n",
    "print(\"Sub-conjunto de treinamento\", df_subtrain.shape)"
   ]
  },
  {
   "cell_type": "code",
   "execution_count": 5,
   "metadata": {},
   "outputs": [],
   "source": [
    "X_train_subset = df_subtrain.drop(columns=[\"loan_status\"])\n",
    "y_train_subset  = df_subtrain[\"loan_status\"]\n",
    "\n",
    "X_val = df_val.drop(columns=[\"loan_status\"])\n",
    "y_val = df_val[\"loan_status\"]\n",
    "\n",
    "X_test = df_test.drop(columns=[\"loan_status\"])\n",
    "y_test = df_test[\"loan_status\"]\n",
    "\n",
    "# Unificando os conjuntos de subtreino e validação\n",
    "X_train = pd.concat([X_train_subset, X_val], axis=0)\n",
    "y_train= pd.concat([y_train_subset, y_val], axis=0)"
   ]
  },
  {
   "cell_type": "markdown",
   "metadata": {},
   "source": [
    "# Achando os melhores hiperparâmetros"
   ]
  },
  {
   "cell_type": "code",
   "execution_count": 6,
   "metadata": {},
   "outputs": [
    {
     "name": "stdout",
     "output_type": "stream",
     "text": [
      "Executando RandomizedSearchCV 1/20...\n",
      "Executando RandomizedSearchCV 2/20...\n",
      "Executando RandomizedSearchCV 3/20...\n",
      "Executando RandomizedSearchCV 4/20...\n",
      "Executando RandomizedSearchCV 5/20...\n",
      "Executando RandomizedSearchCV 6/20...\n",
      "Executando RandomizedSearchCV 7/20...\n",
      "Executando RandomizedSearchCV 8/20...\n",
      "Executando RandomizedSearchCV 9/20...\n",
      "Executando RandomizedSearchCV 10/20...\n",
      "Executando RandomizedSearchCV 11/20...\n",
      "Executando RandomizedSearchCV 12/20...\n",
      "Executando RandomizedSearchCV 13/20...\n",
      "Executando RandomizedSearchCV 14/20...\n",
      "Executando RandomizedSearchCV 15/20...\n",
      "Executando RandomizedSearchCV 16/20...\n",
      "Executando RandomizedSearchCV 17/20...\n",
      "Executando RandomizedSearchCV 18/20...\n",
      "Executando RandomizedSearchCV 19/20...\n",
      "Executando RandomizedSearchCV 20/20...\n",
      "\n",
      "Melhor acurácia no conjunto de validação: 0.9163\n",
      "Melhores parâmetros encontrados: {'criterion': 'entropy', 'max_depth': 15, 'min_samples_leaf': 3, 'min_samples_split': 10}\n"
     ]
    }
   ],
   "source": [
    "modelo_dt = DecisionTreeClassifier(random_state=42)\n",
    "\n",
    "# Hiperparâmetros que serão ajustados\n",
    "param_dist = {\n",
    "    'max_depth': randint(1, 21),  \n",
    "    'min_samples_split': randint(2, 21),  \n",
    "    'min_samples_leaf': randint(1, 21), \n",
    "    'criterion': ['gini', 'entropy'], \n",
    "}\n",
    "\n",
    "melhores_modelos = []\n",
    "historico_mean_scores = []  \n",
    "historico_std_scores = []\n",
    "\n",
    "# Executar o RandomizedSearchCV 20 vezes\n",
    "for i in range(20):  \n",
    "    print(f\"Executando RandomizedSearchCV {i+1}/20...\")\n",
    "\n",
    "    random_search = RandomizedSearchCV(\n",
    "        modelo_dt, \n",
    "        param_distributions=param_dist, \n",
    "        n_iter=1,\n",
    "        cv=StratifiedKFold(n_splits=5, shuffle=True, random_state=42),  \n",
    "        n_jobs=-1,  \n",
    "        random_state=i,\n",
    "        scoring='accuracy',\n",
    "        return_train_score=True\n",
    "    )\n",
    "\n",
    "    random_search.fit(X_train_subset, y_train_subset)\n",
    "\n",
    "    # Média e desvio-padrão das 5 folds na validação cruzada\n",
    "    mean_scores = random_search.cv_results_['mean_test_score'] \n",
    "    std_scores = random_search.cv_results_['std_test_score']\n",
    "\n",
    "    # Armazena a média e desvio padrão das iterações\n",
    "    historico_mean_scores.append(np.mean(mean_scores))\n",
    "    historico_std_scores.append(np.mean(std_scores))\n",
    "    \n",
    "    # Dentre os 5 folds, qual teve a melhor média?\n",
    "    melhores_modelos.append(random_search.best_estimator_)\n",
    "\n",
    "# Agora, escolher o modelo com a melhor média das pontuações de validação cruzada\n",
    "indice_melhor = np.argmax(historico_mean_scores)\n",
    "melhor_modelo_final = melhores_modelos[indice_melhor]\n",
    "\n",
    "# Exibir os melhores parâmetros do modelo com a melhor média\n",
    "melhores_parametros = melhor_modelo_final.get_params()\n",
    "\n",
    "print(f\"\\nMelhor média de acurácia nos folds: {historico_mean_scores[indice_melhor]:.4f}\")\n",
    "print(f\"Melhores parâmetros encontrados: {melhores_parametros}\")"
   ]
  },
  {
   "cell_type": "markdown",
   "metadata": {},
   "source": [
    "Plot e resultados da busca de hiperparâmetros"
   ]
  },
  {
   "cell_type": "code",
   "execution_count": 1,
   "metadata": {},
   "outputs": [
    {
     "ename": "NameError",
     "evalue": "name 'plt' is not defined",
     "output_type": "error",
     "traceback": [
      "\u001b[1;31m---------------------------------------------------------------------------\u001b[0m",
      "\u001b[1;31mNameError\u001b[0m                                 Traceback (most recent call last)",
      "Cell \u001b[1;32mIn[1], line 1\u001b[0m\n\u001b[1;32m----> 1\u001b[0m \u001b[43mplt\u001b[49m\u001b[38;5;241m.\u001b[39mfigure(figsize\u001b[38;5;241m=\u001b[39m(\u001b[38;5;241m12\u001b[39m, \u001b[38;5;241m6\u001b[39m))\n\u001b[0;32m      3\u001b[0m plt\u001b[38;5;241m.\u001b[39merrorbar(\n\u001b[0;32m      4\u001b[0m     \u001b[38;5;28mrange\u001b[39m(\u001b[38;5;241m1\u001b[39m, \u001b[38;5;28mlen\u001b[39m(historico_mean_scores) \u001b[38;5;241m+\u001b[39m \u001b[38;5;241m1\u001b[39m), \n\u001b[0;32m      5\u001b[0m     historico_mean_scores, \n\u001b[1;32m   (...)\u001b[0m\n\u001b[0;32m     12\u001b[0m     label\u001b[38;5;241m=\u001b[39m\u001b[38;5;124m'\u001b[39m\u001b[38;5;124mMédia da Validação Cruzada (com desvio padrão)\u001b[39m\u001b[38;5;124m'\u001b[39m\n\u001b[0;32m     13\u001b[0m )\n\u001b[0;32m     15\u001b[0m plt\u001b[38;5;241m.\u001b[39mxlabel(\u001b[38;5;124m'\u001b[39m\u001b[38;5;124mExecução do RandomizedSearchCV\u001b[39m\u001b[38;5;124m'\u001b[39m)\n",
      "\u001b[1;31mNameError\u001b[0m: name 'plt' is not defined"
     ]
    }
   ],
   "source": [
    "plt.figure(figsize=(12, 6))\n",
    "\n",
    "plt.errorbar(\n",
    "    range(1, len(historico_mean_scores) + 1), \n",
    "    historico_mean_scores, \n",
    "    yerr=historico_std_scores, \n",
    "    fmt='o-',  \n",
    "    color='b', \n",
    "    ecolor='r',  \n",
    "    elinewidth=2, \n",
    "    capsize=4, \n",
    "    label='Média da Validação Cruzada (com desvio padrão)'\n",
    ")\n",
    "\n",
    "plt.xlabel('Execução do RandomizedSearchCV')\n",
    "plt.ylabel('Pontuação')\n",
    "plt.title('Média da Validação Cruzada ao Longo das Execuções')\n",
    "plt.xticks(range(1, len(historico_mean_scores) + 1, max(1, len(historico_mean_scores) // 10)))\n",
    "plt.grid(True)\n",
    "plt.legend()\n",
    "plt.show()"
   ]
  },
  {
   "cell_type": "markdown",
   "metadata": {},
   "source": [
    "# Treinando e testando o modelo"
   ]
  },
  {
   "cell_type": "code",
   "execution_count": 11,
   "metadata": {},
   "outputs": [
    {
     "name": "stdout",
     "output_type": "stream",
     "text": [
      "Métricas no Treino:\n",
      "Acurácia: 0.9372\n",
      "Precisão: 0.9322\n",
      "Recall: 0.8817\n",
      "F1-Score: 0.9037\n",
      "\n",
      "Métricas no Teste:\n",
      "Acurácia: 0.9159\n",
      "Precisão: 0.8986\n",
      "Recall: 0.8493\n",
      "F1-Score: 0.8706\n",
      "\n"
     ]
    }
   ],
   "source": [
    "# Avaliação no conjunto de treinamento\n",
    "y_train_pred = melhor_modelo_final.predict(X_train)\n",
    "accuracy_train = accuracy_score(y_train, y_train_pred)\n",
    "precision_train = precision_score(y_train, y_train_pred, average='macro')\n",
    "recall_train = recall_score(y_train, y_train_pred, average='macro')\n",
    "f1_train = f1_score(y_train, y_train_pred, average='macro')\n",
    "\n",
    "# Avaliação no conjunto de teste\n",
    "y_test_pred = melhor_modelo_final.predict(X_test)\n",
    "accuracy_test = accuracy_score(y_test, y_test_pred)\n",
    "precision_test = precision_score(y_test, y_test_pred, average='macro')\n",
    "recall_test = recall_score(y_test, y_test_pred, average='macro')\n",
    "f1_test = f1_score(y_test, y_test_pred, average='macro')\n",
    "\n",
    "# Exibir os resultados\n",
    "print(\"Métricas no Treino:\")\n",
    "print(f\"Acurácia: {accuracy_train:.4f}\")\n",
    "print(f\"Precisão: {precision_train:.4f}\")\n",
    "print(f\"Recall: {recall_train:.4f}\")\n",
    "print(f\"F1-Score: {f1_train:.4f}\\n\")\n",
    "\n",
    "print(\"Métricas no Teste:\")\n",
    "print(f\"Acurácia: {accuracy_test:.4f}\")\n",
    "print(f\"Precisão: {precision_test:.4f}\")\n",
    "print(f\"Recall: {recall_test:.4f}\")\n",
    "print(f\"F1-Score: {f1_test:.4f}\\n\")\n"
   ]
  },
  {
   "cell_type": "code",
   "execution_count": 12,
   "metadata": {},
   "outputs": [
    {
     "data": {
      "image/png": "[encoded data removed]",
      "text/plain": [
       "<Figure size 800x500 with 1 Axes>"
      ]
     },
     "metadata": {},
     "output_type": "display_data"
    }
   ],
   "source": [
    "metricas = [\"Acurácia\", \"Precisão\", \"Recall\", \"F1-Score\"]\n",
    "\n",
    "# Valores das métricas para treino e teste\n",
    "valores_treino = [accuracy_train, precision_train, recall_train, f1_train]\n",
    "valores_teste = [accuracy_test, precision_test, recall_test, f1_test]\n",
    "\n",
    "# Configuração do gráfico\n",
    "x = np.arange(len(metricas))  # Posição das barras\n",
    "largura = 0.3  # Largura das barras\n",
    "\n",
    "plt.figure(figsize=(8, 5))\n",
    "plt.bar(x - largura/2, valores_treino, largura, label=\"Treinamento\", color=\"blue\")\n",
    "plt.bar(x + largura/2, valores_teste, largura, label=\"Teste\", color=\"orange\")\n",
    "\n",
    "# Adicionando rótulos\n",
    "plt.xlabel(\"Métricas\")\n",
    "plt.ylabel(\"Valores\")\n",
    "plt.title(\"Comparação das métricas entre Treinamento e Teste\")\n",
    "plt.xticks(x, metricas)  # Define os nomes das métricas no eixo X\n",
    "plt.legend()\n",
    "plt.ylim(0, 1)  # Limita o eixo Y de 0 a 1\n",
    "\n",
    "# Exibir os valores nas barras\n",
    "for i in range(len(metricas)):\n",
    "    plt.text(i - largura/2, valores_treino[i] + 0.02, f\"{valores_treino[i]:.2f}\", ha='center', fontsize=10)\n",
    "    plt.text(i + largura/2, valores_teste[i] + 0.02, f\"{valores_teste[i]:.2f}\", ha='center', fontsize=10)\n",
    "\n",
    "plt.show()"
   ]
  },
  {
   "cell_type": "markdown",
   "metadata": {},
   "source": [
    "Matriz de confusão\n"
   ]
  },
  {
   "cell_type": "code",
   "execution_count": 14,
   "metadata": {},
   "outputs": [
    {
     "data": {
      "image/png": "[encoded data removed]",
      "text/plain": [
       "<Figure size 600x600 with 1 Axes>"
      ]
     },
     "metadata": {},
     "output_type": "display_data"
    }
   ],
   "source": [
    "conf_matrix = confusion_matrix(y_test, y_test_pred)\n",
    "\n",
    "plt.figure(figsize=(6, 6))\n",
    "sns.heatmap(conf_matrix, annot=True, fmt='d', cmap='Blues', cbar=False, xticklabels=['Não Aprovado', 'Aprovado'], yticklabels=['Não Aprovado', 'Aprovado'])\n",
    "plt.xlabel('Predição')\n",
    "plt.ylabel('Real')\n",
    "plt.title('Matriz de Confusão no conjunto de teste')\n",
    "plt.show()"
   ]
  }
 ],
 "metadata": {
  "kernelspec": {
   "display_name": "Python 3",
   "language": "python",
   "name": "python3"
  },
  "language_info": {
   "codemirror_mode": {
    "name": "ipython",
    "version": 3
   },
   "file_extension": ".py",
   "mimetype": "text/x-python",
   "name": "python",
   "nbconvert_exporter": "python",
   "pygments_lexer": "ipython3",
   "version": "3.10.2"
  }
 },
 "nbformat": 4,
 "nbformat_minor": 2
}
